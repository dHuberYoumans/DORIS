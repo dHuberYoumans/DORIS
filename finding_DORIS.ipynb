{
 "cells": [
  {
   "cell_type": "markdown",
   "metadata": {},
   "source": [
    "### Imports"
   ]
  },
  {
   "cell_type": "code",
   "execution_count": null,
   "metadata": {},
   "outputs": [],
   "source": [
    "# PROCESSING DATA IMPORTS\n",
    "import numpy as np\n",
    "import pandas as pd\n",
    "from datetime import datetime\n",
    "from datetime import timedelta\n",
    "import scipy.constants\n",
    "\n",
    "# SYSTEM \n",
    "import os\n",
    "import sys\n",
    "from pathlib import Path\n",
    "import time\n",
    "\n",
    "# VISUALISATION\n",
    "import matplotlib.pyplot as plt\n",
    "%matplotlib inline\n",
    "\n",
    "# IMPORT UTILITY FUNCIONS\n",
    "sys.path.append('./src/') # append path to ./src/ for following imports\n",
    "from dl_utils import *\n",
    "from df_utils import *\n",
    "from misc_utils import *\n",
    "import kepler_utils as kutls\n",
    "import ana_utils as autls\n",
    "\n",
    "# ML IMPORTS\n",
    "from sklearn.model_selection import TimeSeriesSplit\n",
    "from sklearn.preprocessing import MinMaxScaler\n",
    "\n",
    "from sklearn.linear_model import LinearRegression\n",
    "from sklearn.model_selection import train_test_split\n",
    "from sklearn.metrics import mean_absolute_error\n",
    "\n",
    "import statsmodels.tsa.stattools as sts\n",
    "import statsmodels.graphics.tsaplots as sgt\n",
    "\n",
    "import pmdarima as pm\n",
    "\n",
    "from scipy.optimize import curve_fit\n",
    "\n",
    "# SPECIFY WORKING DIRECTORY (LOCATION OF SATELLITE .csv FILES)\n",
    "working_dir = os.getcwd()\n",
    "\n",
    "# CONSTANTS \n",
    "M_earth = 5.972E24 # earth mass [kg]\n",
    "G = scipy.constants.G # grav constant [m^3 s^{-2} kg^{-1}]\n",
    "mu = G*M_earth # standard grav parameter for m (mass moving object) << M_earth [m^3 s^{-2}]  \n",
    "\n",
    "print('imports complete')"
   ]
  },
  {
   "cell_type": "code",
   "execution_count": null,
   "metadata": {},
   "outputs": [],
   "source": [
    "\n",
    "def drop_dupl_idx(df):\n",
    "    return  (df\n",
    "             .reset_index()\n",
    "             .drop_duplicates(subset='time_stamp',keep='last')\n",
    "             .set_index('time_stamp'))\n",
    "\n",
    "def load(path_to_csv:str):\n",
    "    \"\"\"\n",
    "    Loads and returns the DORIS .csv-file in single DataFrame (with DateTime index) with sorted index\n",
    "    \"\"\"\n",
    "    dtypes = {'ctr_id':'str','sat_id':'str','time_stamp':'str','x':'float','y':'float','z':'float','vx':'float','vy':'float','vz':'float'}\n",
    "    df = pd.read_csv(path_to_csv,usecols=range(1,10),index_col=[2],dtype=dtypes,parse_dates=['time_stamp'])\n",
    "    return df.sort_index() # sort datetime index\n",
    "\n",
    "def preprocess(df,name:str):\n",
    "    \"\"\"\n",
    "    \"\"\"\n",
    "    sat = df[df.columns[2:]].copy()\n",
    "    \n",
    "    # CONVERT POS TO [km]->[m] (MULTIPLY BY 1000) AND VELOCITY TO [dm/s]->[m/s] (DIVIDE BY 10)\n",
    "    sat[['x','y','z']] = sat[['x','y','z']] * 1_000\n",
    "    sat[['vx','vy','vz']] = sat[['vx','vy','vz']] / 10\n",
    "\n",
    "    # DROP DUPLICATE INDICES\n",
    "    sat = drop_dupl_idx(sat) \n",
    "\n",
    "    # RESAMPLE \n",
    "    if len(sat.index.diff()[1:].value_counts()) > 1:\n",
    "        print(f'{name} has observational gaps')\n",
    "    #     sat_og = sat.copy()\n",
    "    #     sat = sat.resample('1min').mean() \n",
    "    #     for col in sat.columns:\n",
    "    #         sat[col] = fft_resample(sat_og[col])\n",
    "\n",
    "    # CHECK FOR NULL VALUES\n",
    "    if sat.isnull().sum().sum() != 0:\n",
    "        print('ATTENTION: Null values encountered')\n",
    "\n",
    "    return sat\n",
    "\n",
    "def orbital_elements(sat,modus:str):\n",
    "    \"\"\"\n",
    "    Computes osculating elements (i, Omega, omega, a, e, h) from the satellite's position and velocity\n",
    "    \"\"\"\n",
    "\n",
    "    sat_cp = sat.copy()\n",
    "\n",
    "    idx = sat.index\n",
    "\n",
    "    if modus == 'classical':\n",
    "    \n",
    "        i = pd.DataFrame(kutls.i(sat),columns=['i']).set_index(idx)\n",
    "\n",
    "        Omega = pd.DataFrame(kutls.Omega(sat),columns=['Omega']).set_index(idx)\n",
    "\n",
    "        omega = pd.DataFrame(kutls.omega(sat),columns=['omega']).set_index(idx)\n",
    "\n",
    "        a = pd.DataFrame(kutls.a(sat),columns=['a']).set_index(idx)\n",
    "\n",
    "        e = pd.DataFrame(kutls.e(sat),columns=['e']).set_index(idx)\n",
    "\n",
    "        nu = pd.DataFrame(kutls.nu(sat),columns=['nu']).set_index(idx)\n",
    "\n",
    "        return pd.concat([sat_cp,a,e,nu,i,Omega,omega],axis=1)\n",
    "    \n",
    "    if modus=='mean':\n",
    "\n",
    "        E = pd.DataFrame(kutls.E(sat),columns=['E']).set_index(idx)\n",
    "\n",
    "        M = pd.DataFrame(kutls.M(sat),columns=['M']).set_index(idx)\n",
    "\n",
    "        n = pd.DataFrame(kutls.n(sat),columns=['n']).set_index(idx)\n",
    "\n",
    "        return pd.concat([sat_cp,E,M,n],axis=1)\n",
    "\n",
    "    if modus == 'modified':\n",
    "\n",
    "        p = pd.DataFrame(kutls.p(sat),columns=['p']).set_index(idx)\n",
    "\n",
    "        f = pd.DataFrame(kutls.f(sat),columns=['f']).set_index(idx)\n",
    "\n",
    "        g = pd.DataFrame(kutls.g(sat),columns=['g']).set_index(idx)\n",
    "\n",
    "        q1 = pd.DataFrame(kutls.q1(sat),columns=['q1']).set_index(idx)\n",
    "\n",
    "        q2 = pd.DataFrame(kutls.q2(sat),columns=['q2']).set_index(idx)\n",
    "\n",
    "        L = pd.DataFrame(kutls.L(sat),columns=['L']).set_index(idx)\n",
    "\n",
    "        return pd.concat([sat_cp,p,f,g,q1,q2,L],axis=1)\n"
   ]
  },
  {
   "cell_type": "markdown",
   "metadata": {},
   "source": [
    "### Loading and Preprocessing Data"
   ]
  },
  {
   "cell_type": "code",
   "execution_count": null,
   "metadata": {},
   "outputs": [],
   "source": [
    "# LOAD DATA \n",
    "s6ssa = load(working_dir+'/sat/s6ssa2024/s6assa_20_24.csv')\n",
    "\n",
    "print('\\n loading data complete')\n"
   ]
  },
  {
   "cell_type": "markdown",
   "metadata": {},
   "source": [
    "### Preprocess Data"
   ]
  },
  {
   "cell_type": "code",
   "execution_count": null,
   "metadata": {},
   "outputs": [],
   "source": [
    "s6assa = preprocess(s6ssa,'s6assa')"
   ]
  },
  {
   "cell_type": "code",
   "execution_count": null,
   "metadata": {},
   "outputs": [
    {
     "name": "stdout",
     "output_type": "stream",
     "text": [
      "loading maneuvers complete\n"
     ]
    }
   ],
   "source": [
    "# MANEUVERS\n",
    "maneuvers = pd.read_csv('/Users/donny/Desktop/TTM/training/IDS/references/maneuvers_schedule.csv',index_col=0)\n",
    "maneuvers.start = pd.to_datetime(maneuvers.start)\n",
    "maneuvers.end = pd.to_datetime(maneuvers.end)\n",
    "\n",
    "manja32024 = maneuvers[(maneuvers.sat_id == 'ja3') & (maneuvers.start.dt.year.isin(range(2020,2025)))].drop(['sat_id','end'],axis=1).set_index('start').sort_index()\n",
    "mans6a2024 = maneuvers[(maneuvers.sat_id == 's6a') & (maneuvers.start.dt.year.isin(range(2020,2025)))].drop(['sat_id','end'],axis=1).set_index('start').sort_index()\n",
    "manh2c2024 = maneuvers[(maneuvers.sat_id == 'h2c') & (maneuvers.start.dt.year.isin(range(2020,2025)))].drop(['sat_id','end'],axis=1).set_index('start').sort_index()\n",
    "manh2d2024 = maneuvers[(maneuvers.sat_id == 'h2d') & (maneuvers.start.dt.year.isin(range(2020,2025)))].drop(['sat_id','end'],axis=1).set_index('start').sort_index()\n",
    "\n",
    "print('loading maneuvers complete')"
   ]
  },
  {
   "cell_type": "markdown",
   "metadata": {},
   "source": []
  }
 ],
 "metadata": {
  "language_info": {
   "name": "python"
  }
 },
 "nbformat": 4,
 "nbformat_minor": 2
}
